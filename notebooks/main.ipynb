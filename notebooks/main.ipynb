{
 "cells": [
  {
   "cell_type": "code",
   "execution_count": 6,
   "id": "929a2bbf",
   "metadata": {},
   "outputs": [],
   "source": [
    "!source \"../venv/bin/activate\""
   ]
  },
  {
   "cell_type": "code",
   "execution_count": null,
   "id": "96590b70",
   "metadata": {},
   "outputs": [],
   "source": [
    "from dask import dataframe as dd\n",
    "\n",
    "def explore_dataset():\n",
    "    # Data exploration code goes here\n",
    "    blocks = dd.read_json('../arxiv-metadata-oai-snapshot.json', lines=True, blocksize=1000)\n",
    "    for block in blocks:\n",
    "        print(block.head())\n",
    "        print(block.describe())\n",
    "\n",
    "explore_dataset()"
   ]
  }
 ],
 "metadata": {
  "kernelspec": {
   "display_name": "Python 3 (ipykernel)",
   "language": "python",
   "name": "python3"
  },
  "language_info": {
   "codemirror_mode": {
    "name": "ipython",
    "version": 3
   },
   "file_extension": ".py",
   "mimetype": "text/x-python",
   "name": "python",
   "nbconvert_exporter": "python",
   "pygments_lexer": "ipython3",
   "version": "3.9.12"
  }
 },
 "nbformat": 4,
 "nbformat_minor": 5
}
